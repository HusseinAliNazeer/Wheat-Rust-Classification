{
 "cells": [
  {
   "cell_type": "markdown",
   "metadata": {},
   "source": [
    "### Wheat Image Clacification"
   ]
  },
  {
   "cell_type": "code",
   "execution_count": 1,
   "metadata": {},
   "outputs": [],
   "source": [
    "#Import Libraries\n",
    "import ipywidgets as widgets\n",
    "from ipywidgets import *\n",
    "import os\n",
    "import keras\n",
    "import numpy as np\n",
    "from keras import layers\n",
    "from keras import models\n",
    "from keras.preprocessing.image import img_to_array\n",
    "from keras.preprocessing.image import load_img\n",
    "from IPython.display import Image\n",
    "from IPython import display\n",
    "from tensorflow.keras.models import load_model"
   ]
  },
  {
   "cell_type": "code",
   "execution_count": 2,
   "metadata": {},
   "outputs": [],
   "source": [
    "#def model architecture \n",
    "def create_model():\n",
    "    model = models.Sequential()\n",
    "    # first CNN layer\n",
    "    model.add(layers.Conv2D(32, (3, 3), activation='relu', input_shape=(64, 64, 3)))\n",
    "    # pooling layer\n",
    "    model.add(layers.MaxPooling2D((2, 2)))\n",
    "    # using dropout to avoid overfitting\n",
    "    model.add(layers.Dropout(0.2))\n",
    "    # second  CNN layer\n",
    "    model.add(layers.Conv2D(64, (3, 3), activation='relu'))\n",
    "    model.add(layers.MaxPooling2D((2, 2)))\n",
    "    model.add(layers.Dropout(0.2))\n",
    "    # third CNN layer\n",
    "    model.add(layers.Conv2D(64, (3, 3), activation='relu'))\n",
    "    # flatten the output of CNN \n",
    "    model.add(layers.Flatten())\n",
    "    # full connection layer\n",
    "    model.add(layers.Dense(64, activation='relu'))\n",
    "    # output layer\n",
    "    model.add(layers.Dense(4, activation='softmax'))\n",
    "    return model\n",
    "# load saved weights\n",
    "path='cp.ckpt'\n",
    "model=create_model()\n",
    "model.load_weights(path)"
   ]
  },
  {
   "cell_type": "code",
   "execution_count": 3,
   "metadata": {
    "scrolled": false
   },
   "outputs": [],
   "source": [
    "#read text file that contains the information about cure\n",
    "f = open('cure.txt')\n",
    "#read the file contents \n",
    "l = [ line.rstrip() for line in f.readlines()]\n",
    "#group the list by sections of cure\n",
    "from itertools import groupby\n",
    "text=[list(group) for k, group in groupby(l, lambda x: x == \"$\") if not k] #k stands for the boolean\n",
    "# make a dictionay contains each section and the data coresponds to it \n",
    "k=['Future guide','Leaf rust','Stem rust','Cultural practice','chemical formulations']\n",
    "d = dict()\n",
    "for k, v in zip(k, text):\n",
    "    d[k]=v"
   ]
  },
  {
   "cell_type": "code",
   "execution_count": 4,
   "metadata": {},
   "outputs": [],
   "source": [
    "def print_all(d,value):\n",
    "    out_pl.clear_output()\n",
    "    for k in d:\n",
    "        if k == value:\n",
    "            continue\n",
    "        for i in d[k]:\n",
    "            print(i)"
   ]
  },
  {
   "cell_type": "code",
   "execution_count": 5,
   "metadata": {
    "scrolled": true
   },
   "outputs": [],
   "source": [
    "def load_my_image(path=''):\n",
    "    data=btn_upload.metadata[0]\n",
    "    img_name=data['name']\n",
    "    path=os.getcwd()\n",
    "    path=path+'/test_images/'+img_name\n",
    "    test_image = load_img(path, target_size = (64, 64))\n",
    "    return test_image"
   ]
  },
  {
   "cell_type": "code",
   "execution_count": 6,
   "metadata": {},
   "outputs": [],
   "source": [
    "# function to read the uploaded image and return it \n",
    "def show_my_image(path=''):\n",
    "    # read the data of the file\n",
    "    data = btn_upload.metadata[0]\n",
    "    # get file name\n",
    "    img_name = data['name']\n",
    "    # get current working directory\n",
    "    path = os.getcwd()\n",
    "    # the complete path of the image\n",
    "    path = path+'/test_images/'+img_name\n",
    "    # load the image and store it \n",
    "    img = load_img(path, target_size = (400, 400))\n",
    "    #return the image \n",
    "    return img"
   ]
  },
  {
   "cell_type": "code",
   "execution_count": 7,
   "metadata": {},
   "outputs": [],
   "source": [
    "# function to return the prediction of the image \n",
    "def pred_img():\n",
    "    # load the image \n",
    "    image = load_my_image()\n",
    "    # convert image to array to feed it to the model\n",
    "    image = img_to_array(image)\n",
    "    # expand image dimension to the batch size for model to be able to predict\n",
    "    image = np.expand_dims(image, axis = 0)\n",
    "    # predict the result\n",
    "    result = model.predict(image)\n",
    "    # return result\n",
    "    return result"
   ]
  },
  {
   "cell_type": "code",
   "execution_count": 8,
   "metadata": {},
   "outputs": [],
   "source": [
    "class_indecies={0:'healthy_wheat',1:'leaf_rust',2:'stem_rust',3:'unknown'}\n",
    "#k=['Future guide','Leaf rust','Stem rust','Cultural practice','chemical formulations']\n",
    "# action for the button to run the model on uploaded image \n",
    "def on_click_classify(change):\n",
    "    #predict the result\n",
    "    pred = pred_img()\n",
    "    # set the value of the label to the reuslt of  model prediction\n",
    "    index = 0\n",
    "    for i in range(4):\n",
    "        if int(pred_img()[0][i]):\n",
    "            index=i\n",
    "    # show the class indeceis \n",
    "    lbl_pred.value = \"Prediction : \" + class_indecies[index]\n",
    "    with cure :\n",
    "        for k in d:\n",
    "            if class_indecies[index] == 'unknown':\n",
    "                break\n",
    "            elif class_indecies[index] == 'healthy_wheat':\n",
    "                for i in d['Future guide']:\n",
    "                    print(i)\n",
    "                break\n",
    "            elif class_indecies[index] == 'stem_rust':\n",
    "                print_all(d,'Leaf rust')\n",
    "                break\n",
    "            elif class_indecies[index] == 'leaf_rust':\n",
    "                print_all(d,'Stem rust')\n",
    "                break\n",
    "            \n",
    "    # clear the output\n",
    "    out_pl.clear_output()\n",
    "    # display the uploaded image\n",
    "    with out_pl: display.display(show_my_image())"
   ]
  },
  {
   "cell_type": "code",
   "execution_count": 9,
   "metadata": {},
   "outputs": [],
   "source": [
    "# Elements Of the App\n",
    "# upload Button\n",
    "btn_upload = widgets.FileUpload()\n",
    "# output widget to display image \n",
    "out_pl = widgets.Output()\n",
    "#output image to display cure \n",
    "cure = widgets.Output()\n",
    "# label for the result of prediction\n",
    "lbl_pred = widgets.Label()\n",
    "# Button to classify the uploaded image \n",
    "btn_run = widgets.Button(description='Classify')\n",
    "# event for classify button to predict the result and display uploaded image\n",
    "btn_run.on_click(on_click_classify)"
   ]
  },
  {
   "cell_type": "code",
   "execution_count": 11,
   "metadata": {
    "scrolled": true
   },
   "outputs": [
    {
     "data": {
      "application/vnd.jupyter.widget-view+json": {
       "model_id": "ea9d4046062b40f197ad619330b27880",
       "version_major": 2,
       "version_minor": 0
      },
      "text/plain": [
       "VBox(box_style='info', children=(Label(value='Select Image'), FileUpload(value={'healthy-wheat-crop-growing-sp…"
      ]
     },
     "metadata": {},
     "output_type": "display_data"
    }
   ],
   "source": [
    "VBox([widgets.Label('Select Image'),btn_upload,btn_run,out_pl,lbl_pred,cure],box_style='info')"
   ]
  },
  {
   "cell_type": "code",
   "execution_count": null,
   "metadata": {},
   "outputs": [],
   "source": []
  },
  {
   "cell_type": "code",
   "execution_count": null,
   "metadata": {},
   "outputs": [],
   "source": []
  }
 ],
 "metadata": {
  "kernelspec": {
   "display_name": "Python 3",
   "language": "python",
   "name": "python3"
  },
  "language_info": {
   "codemirror_mode": {
    "name": "ipython",
    "version": 3
   },
   "file_extension": ".py",
   "mimetype": "text/x-python",
   "name": "python",
   "nbconvert_exporter": "python",
   "pygments_lexer": "ipython3",
   "version": "3.8.10"
  }
 },
 "nbformat": 4,
 "nbformat_minor": 4
}
